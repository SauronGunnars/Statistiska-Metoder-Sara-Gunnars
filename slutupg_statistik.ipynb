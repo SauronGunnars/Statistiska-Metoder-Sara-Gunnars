{
 "cells": [
  {
   "cell_type": "markdown",
   "metadata": {},
   "source": [
    "## <p style=\"text-align: center;\">Slutuppgift statistiska metoder</p>\n",
    "\n",
    "- Sara Gunnars\n",
    "- AI22\n",
    "- 2023-08-31"
   ]
  },
  {
   "cell_type": "markdown",
   "metadata": {},
   "source": [
    "I denna rapport så kommer jag att analysera samt dra slutsatser kring datasetet Wines. Jag kommer utgår ifrån ett antal frågeställningar och besvara dessamed hjälp av statistiska metoder. I den inledande delen av rapporten bekräknas deskriptiv statistik som syftar till att ge en överblick över datan jag arbetar med. Därefter kommer även utförs hypotest, beräkning av konfidensintervall, korrelation och enkel linjär regression.  \n",
    "\n",
    "Datasetet som används i uppgifter bygger på kemiska analyser av tre olika sorters druvor från samma region i Italien."
   ]
  },
  {
   "cell_type": "markdown",
   "metadata": {},
   "source": [
    "Innan jag börjar med uppgifterna kommer jag att importera passande python paket, läsa in datasetet samt namnge varje column."
   ]
  },
  {
   "cell_type": "code",
   "execution_count": 35,
   "metadata": {},
   "outputs": [],
   "source": [
    "import pandas as pd\n",
    "import plotly.express as px\n",
    "import seaborn as sns\n",
    "import numpy as np\n",
    "import matplotlib.pyplot as plt\n",
    "import scipy.stats as st"
   ]
  },
  {
   "cell_type": "code",
   "execution_count": 36,
   "metadata": {},
   "outputs": [
    {
     "data": {
      "text/html": [
       "<div>\n",
       "<style scoped>\n",
       "    .dataframe tbody tr th:only-of-type {\n",
       "        vertical-align: middle;\n",
       "    }\n",
       "\n",
       "    .dataframe tbody tr th {\n",
       "        vertical-align: top;\n",
       "    }\n",
       "\n",
       "    .dataframe thead th {\n",
       "        text-align: right;\n",
       "    }\n",
       "</style>\n",
       "<table border=\"1\" class=\"dataframe\">\n",
       "  <thead>\n",
       "    <tr style=\"text-align: right;\">\n",
       "      <th></th>\n",
       "      <th>WineId</th>\n",
       "      <th>Alcohol</th>\n",
       "      <th>Malic_acid</th>\n",
       "      <th>Ash</th>\n",
       "      <th>Alcalinity_of_ash</th>\n",
       "      <th>Magnesium</th>\n",
       "      <th>Total_phenols</th>\n",
       "      <th>Flavanoids</th>\n",
       "      <th>Nonflavanoid phenols</th>\n",
       "      <th>Proanthocyanins</th>\n",
       "      <th>Color intensity</th>\n",
       "      <th>Hue</th>\n",
       "      <th>OD280/OD315_of_diluted_wines</th>\n",
       "      <th>Proline</th>\n",
       "    </tr>\n",
       "  </thead>\n",
       "  <tbody>\n",
       "    <tr>\n",
       "      <th>0</th>\n",
       "      <td>1</td>\n",
       "      <td>14.23</td>\n",
       "      <td>1.71</td>\n",
       "      <td>2.43</td>\n",
       "      <td>15.6</td>\n",
       "      <td>127</td>\n",
       "      <td>2.80</td>\n",
       "      <td>3.06</td>\n",
       "      <td>0.28</td>\n",
       "      <td>2.29</td>\n",
       "      <td>5.64</td>\n",
       "      <td>1.04</td>\n",
       "      <td>3.92</td>\n",
       "      <td>1065</td>\n",
       "    </tr>\n",
       "    <tr>\n",
       "      <th>1</th>\n",
       "      <td>1</td>\n",
       "      <td>13.20</td>\n",
       "      <td>1.78</td>\n",
       "      <td>2.14</td>\n",
       "      <td>11.2</td>\n",
       "      <td>100</td>\n",
       "      <td>2.65</td>\n",
       "      <td>2.76</td>\n",
       "      <td>0.26</td>\n",
       "      <td>1.28</td>\n",
       "      <td>4.38</td>\n",
       "      <td>1.05</td>\n",
       "      <td>3.40</td>\n",
       "      <td>1050</td>\n",
       "    </tr>\n",
       "    <tr>\n",
       "      <th>2</th>\n",
       "      <td>1</td>\n",
       "      <td>13.16</td>\n",
       "      <td>2.36</td>\n",
       "      <td>2.67</td>\n",
       "      <td>18.6</td>\n",
       "      <td>101</td>\n",
       "      <td>2.80</td>\n",
       "      <td>3.24</td>\n",
       "      <td>0.30</td>\n",
       "      <td>2.81</td>\n",
       "      <td>5.68</td>\n",
       "      <td>1.03</td>\n",
       "      <td>3.17</td>\n",
       "      <td>1185</td>\n",
       "    </tr>\n",
       "    <tr>\n",
       "      <th>3</th>\n",
       "      <td>1</td>\n",
       "      <td>14.37</td>\n",
       "      <td>1.95</td>\n",
       "      <td>2.50</td>\n",
       "      <td>16.8</td>\n",
       "      <td>113</td>\n",
       "      <td>3.85</td>\n",
       "      <td>3.49</td>\n",
       "      <td>0.24</td>\n",
       "      <td>2.18</td>\n",
       "      <td>7.80</td>\n",
       "      <td>0.86</td>\n",
       "      <td>3.45</td>\n",
       "      <td>1480</td>\n",
       "    </tr>\n",
       "    <tr>\n",
       "      <th>4</th>\n",
       "      <td>1</td>\n",
       "      <td>13.24</td>\n",
       "      <td>2.59</td>\n",
       "      <td>2.87</td>\n",
       "      <td>21.0</td>\n",
       "      <td>118</td>\n",
       "      <td>2.80</td>\n",
       "      <td>2.69</td>\n",
       "      <td>0.39</td>\n",
       "      <td>1.82</td>\n",
       "      <td>4.32</td>\n",
       "      <td>1.04</td>\n",
       "      <td>2.93</td>\n",
       "      <td>735</td>\n",
       "    </tr>\n",
       "  </tbody>\n",
       "</table>\n",
       "</div>"
      ],
      "text/plain": [
       "   WineId  Alcohol  Malic_acid   Ash  Alcalinity_of_ash  Magnesium  \\\n",
       "0       1    14.23        1.71  2.43               15.6        127   \n",
       "1       1    13.20        1.78  2.14               11.2        100   \n",
       "2       1    13.16        2.36  2.67               18.6        101   \n",
       "3       1    14.37        1.95  2.50               16.8        113   \n",
       "4       1    13.24        2.59  2.87               21.0        118   \n",
       "\n",
       "   Total_phenols  Flavanoids  Nonflavanoid phenols  Proanthocyanins  \\\n",
       "0           2.80        3.06                  0.28             2.29   \n",
       "1           2.65        2.76                  0.26             1.28   \n",
       "2           2.80        3.24                  0.30             2.81   \n",
       "3           3.85        3.49                  0.24             2.18   \n",
       "4           2.80        2.69                  0.39             1.82   \n",
       "\n",
       "   Color intensity   Hue  OD280/OD315_of_diluted_wines  Proline  \n",
       "0             5.64  1.04                          3.92     1065  \n",
       "1             4.38  1.05                          3.40     1050  \n",
       "2             5.68  1.03                          3.17     1185  \n",
       "3             7.80  0.86                          3.45     1480  \n",
       "4             4.32  1.04                          2.93      735  "
      ]
     },
     "execution_count": 36,
     "metadata": {},
     "output_type": "execute_result"
    }
   ],
   "source": [
    "#Lista med kolumn namn\n",
    "colnames = ['WineId', 'Alcohol', 'Malic_acid', 'Ash', 'Alcalinity_of_ash', 'Magnesium', 'Total_phenols', 'Flavanoids', \n",
    "            'Nonflavanoid phenols', 'Proanthocyanins', 'Color intensity', 'Hue', 'OD280/OD315_of_diluted_wines', 'Proline']\n",
    "\n",
    "#läser in dataset\n",
    "df = pd.read_csv('Data/wine/wine.csv', names= colnames, header= None)\n",
    "\n",
    "#random seed\n",
    "random_seed = 2023\n",
    "\n",
    "#en överblick över datasetet\n",
    "df.head()"
   ]
  },
  {
   "cell_type": "code",
   "execution_count": 37,
   "metadata": {},
   "outputs": [
    {
     "data": {
      "text/plain": [
       "WineId  Alcohol  Malic_acid  Ash    Alcalinity_of_ash  Magnesium  Total_phenols  Flavanoids  Nonflavanoid phenols  Proanthocyanins  Color intensity  Hue    OD280/OD315_of_diluted_wines  Proline\n",
       "False   False    False       False  False              False      False          False       False                 False            False            False  False                         False      178\n",
       "Name: count, dtype: int64"
      ]
     },
     "execution_count": 37,
     "metadata": {},
     "output_type": "execute_result"
    }
   ],
   "source": [
    "#Inga värden som saknas\n",
    "df.isna().value_counts()"
   ]
  },
  {
   "cell_type": "markdown",
   "metadata": {},
   "source": [
    "### <p style=\"text-align: center;\">Deskriptiv statistik </p>"
   ]
  },
  {
   "cell_type": "markdown",
   "metadata": {},
   "source": [
    "#### 1. Alkoholhaltens medelvärde och standardavvikelse\n",
    "\n",
    "#### Formel för medlevärde : $\\frac{\\sum_{X}^{}}{n}$ samt formeln för standardavvikelsen :$\\sqrt{\\frac{\\sum_{x-\\hat{x}^{2}}^{}}{n-1}}$"
   ]
  },
  {
   "cell_type": "markdown",
   "metadata": {},
   "source": [
    "- Vid beräknande av medelvärde så summerar vi samtliga observationsvärden (x) och delar dessa i antalet (n)\n",
    "- Vid beräknande av standarrdavvikelse beräknar vi summan av observationsvärdernas kvadrerade avvikelserna från medelvärdet, delat på antalet minus 1. Därefter tar vi roten ur denna summa."
   ]
  },
  {
   "cell_type": "code",
   "execution_count": 38,
   "metadata": {},
   "outputs": [
    {
     "data": {
      "text/html": [
       "<div>\n",
       "<style scoped>\n",
       "    .dataframe tbody tr th:only-of-type {\n",
       "        vertical-align: middle;\n",
       "    }\n",
       "\n",
       "    .dataframe tbody tr th {\n",
       "        vertical-align: top;\n",
       "    }\n",
       "\n",
       "    .dataframe thead tr th {\n",
       "        text-align: left;\n",
       "    }\n",
       "</style>\n",
       "<table border=\"1\" class=\"dataframe\">\n",
       "  <thead>\n",
       "    <tr>\n",
       "      <th></th>\n",
       "      <th>WineId</th>\n",
       "      <th colspan=\"2\" halign=\"left\">Alcohol</th>\n",
       "    </tr>\n",
       "    <tr>\n",
       "      <th></th>\n",
       "      <th></th>\n",
       "      <th>mean</th>\n",
       "      <th>std</th>\n",
       "    </tr>\n",
       "  </thead>\n",
       "  <tbody>\n",
       "    <tr>\n",
       "      <th>0</th>\n",
       "      <td>1</td>\n",
       "      <td>13.744746</td>\n",
       "      <td>0.462125</td>\n",
       "    </tr>\n",
       "    <tr>\n",
       "      <th>1</th>\n",
       "      <td>2</td>\n",
       "      <td>12.278732</td>\n",
       "      <td>0.537964</td>\n",
       "    </tr>\n",
       "    <tr>\n",
       "      <th>2</th>\n",
       "      <td>3</td>\n",
       "      <td>13.153750</td>\n",
       "      <td>0.530241</td>\n",
       "    </tr>\n",
       "  </tbody>\n",
       "</table>\n",
       "</div>"
      ],
      "text/plain": [
       "  WineId    Alcohol          \n",
       "               mean       std\n",
       "0      1  13.744746  0.462125\n",
       "1      2  12.278732  0.537964\n",
       "2      3  13.153750  0.530241"
      ]
     },
     "execution_count": 38,
     "metadata": {},
     "output_type": "execute_result"
    }
   ],
   "source": [
    "#Grupperar datan efter vin ID samt beräknar medelvärde och standardavvikelse för varje grupp\n",
    "alcohol_mean_std = df.groupby(['WineId'], as_index= False).agg({'Alcohol': ['mean', 'std']})\n",
    "alcohol_mean_std"
   ]
  },
  {
   "cell_type": "code",
   "execution_count": 39,
   "metadata": {},
   "outputs": [],
   "source": [
    "#delar upp dataframe i medelvärde och standardavvikelse då jag kommer använda detta i en plott nedan\n",
    "alcohol_mean = alcohol_mean_std['Alcohol']['mean']\n",
    "alcohol_std = alcohol_mean_std['Alcohol']['std']\n",
    "#avrundat till två decimaler\n",
    "alcohol_mean = round(alcohol_mean, 2)\n",
    "alcohol_std = round(alcohol_std, 2)"
   ]
  },
  {
   "cell_type": "markdown",
   "metadata": {},
   "source": [
    "### Histogram av alkoholhalt med medelvärrde som vertikal linje"
   ]
  },
  {
   "cell_type": "code",
   "execution_count": 40,
   "metadata": {},
   "outputs": [],
   "source": [
    "#Dataframes för varje druva\n",
    "wine_1 = df.loc[df['WineId'] == 1]\n",
    "wine_2 = df.loc[df['WineId'] == 2]\n",
    "wine_3 = df.loc[df['WineId'] == 3]\n",
    "\n",
    "#dict med de tre olika druv df\n",
    "wine_dict = {'Druva 1': wine_1, 'Druva 2': wine_2, 'Druva 3': wine_3}"
   ]
  },
  {
   "cell_type": "code",
   "execution_count": 41,
   "metadata": {},
   "outputs": [
    {
     "name": "stdout",
     "output_type": "stream",
     "text": [
      "Answer: 13.744745762711865\n",
      "Answer: 13.75\n",
      "Answer: 0    13.05\n",
      "Name: Alcohol, dtype: float64\n"
     ]
    }
   ],
   "source": [
    "test1 = wine_1['Alcohol'].mean()\n",
    "test2 = wine_1['Alcohol'].median()\n",
    "test3 = wine_1['Alcohol'].mode()\n",
    "\n",
    "print(f\"Answer: {test1}\")\n",
    "print(f\"Answer: {test2}\")\n",
    "print(f\"Answer: {test3}\")"
   ]
  },
  {
   "cell_type": "code",
   "execution_count": 42,
   "metadata": {},
   "outputs": [
    {
     "data": {
      "image/png": "[encoded data removed]",
      "text/plain": [
       "<Figure size 2000x500 with 3 Axes>"
      ]
     },
     "metadata": {},
     "output_type": "display_data"
    }
   ],
   "source": [
    "#skapar figur, sätter upp tre subplots samt titel\n",
    "from matplotlib.offsetbox import AnchoredText\n",
    "fig, ax = plt.subplots(1,3, figsize = (20,5))\n",
    "fig.suptitle('Alkoholhalten')\n",
    "\n",
    "\n",
    "for i, grape in enumerate(wine_dict): \n",
    "    \n",
    "    ax[i].set_title(f'{grape}') #subplot titel\n",
    "    sns.histplot(ax = ax[i], data= wine_dict[grape], x= 'Alcohol',  binwidth= 0.5,kde= True) #den data vi önskar plotta\n",
    "    ax[i].axvline(x = alcohol_mean[i], ymin = 0, ymax = 1, color = 'red') #adderar vertikal linje för medelvärdet\n",
    "    \n",
    "    #text ruta med medelvärde och standardavvikelsee\n",
    "    anc = AnchoredText(f'Mean: {alcohol_mean[i]}\\nStd: {alcohol_std[i]}', loc=\"upper right\", frameon=False)\n",
    "    ax[i].add_artist(anc)\n",
    "   \n",
    "       "
   ]
  },
  {
   "cell_type": "markdown",
   "metadata": {},
   "source": [
    "#### Analys av histogram\n",
    "Jag valde att i även inkludera en kernel determination estimator för att göra analysen av fördelningen tydligare. Som vi kan se så sticker värderna av samtliga druvor ut lite. Jag skulle därmed säga att ingen av histogrammen är normalfördelade. Det ser ut  som att druva ett har en lätt negativ skevhet medan druva två och tre har en lätt positiv skevhet."
   ]
  },
  {
   "cell_type": "markdown",
   "metadata": {},
   "source": [
    "### <p style=\"text-align: center;\">Hypotestest och konfidensintervall</p>"
   ]
  },
  {
   "cell_type": "markdown",
   "metadata": {},
   "source": [
    "#### 2) Hypotestest"
   ]
  },
  {
   "cell_type": "markdown",
   "metadata": {},
   "source": [
    "Jag ska nu utföra ett hypotestest där vi ska testa om mängden proantocyaniner är lägre en 1.75. Vi vill att testet ska utföras med konfidensnivå på 95% vilket innebär att vi kommer att sätta vår signifikansnivå till 5%. Detta representerar risken för att vi begår ett typ-1 fel. Vilket innebär att vi förkastar nollhypotesen trots att den var sann.\n",
    "\n",
    "- Hypotes: Mängden proantocyaniner är lägre än 1.75\n",
    "- H0 >= 1.75\n",
    "- H1 < 1.75\n",
    "- Signifikanssnivå = 0.05\n",
    "- n = 15 (stickprovets storlek)\n",
    "- df (degrees of freedom) = n -1 = 14\n",
    "- kritiskt t-värde = -1.761. Detta får vi fram genom att söka i en t-tabel. Jag använde denna: https://www.sjsu.edu/faculty/gerstman/StatPrimer/t-table.pdf  Jag läser av tabellen genom att först säka av längst med axeln för degrees of freedom, och därefter den bestämda konfidensnivån.\n",
    "\n",
    "Det kritiska t-värdet blir negativt då vår hypotes är att populationsmedelvärrdet är mindre än 1.75. Detta innebär att vi förkastar nollhypotesen om t < -1.761 \n",
    "\n",
    "Vi kommer utföra ett one t-tail test. Detta då noll hypotesen endast kan vara lika med eller större än alternativ hypotesen."
   ]
  },
  {
   "cell_type": "markdown",
   "metadata": {},
   "source": [
    "## Formeln för t-test är $t = \\frac{\\widehat{x}-\\mu0}{s/\\sqrt{n}}$\n",
    "\n",
    "- $\\widehat{x}$ är stickprovssmedelvärdet\n",
    "- $\\mu0$ är det hypotetiska populationssmedelvärdet. I detta fall 1.75\n",
    "- s = stickprovets standardavvikelse\n",
    "- n = 15\n",
    "\n",
    "Jag saknar nu några värden för formeln ovan och behöver därför börja med att beräkna stickprovets medelvärde samt standardavvikelse."
   ]
  },
  {
   "cell_type": "code",
   "execution_count": 43,
   "metadata": {},
   "outputs": [],
   "source": [
    "#Stickprov på 15 värdern från druvssort 2\n",
    "wine_2_sample = wine_2.sample(n = 15, random_state= random_seed)"
   ]
  },
  {
   "cell_type": "code",
   "execution_count": 44,
   "metadata": {},
   "outputs": [
    {
     "name": "stdout",
     "output_type": "stream",
     "text": [
      "Medelvärdet är : 1.49\n",
      "Standardavvikelse är : 0.56\n"
     ]
    }
   ],
   "source": [
    "#stickprovets standardavvikelse\n",
    "wine_2_sample_std = wine_2_sample['Proanthocyanins'].std()\n",
    "wine_2_sample_std = round(wine_2_sample_std, 2)\n",
    "#stickprrovets medelvärde\n",
    "wine_2_sample_mean = wine_2_sample['Proanthocyanins'].mean()\n",
    "wine_2_sample_mean = round(wine_2_sample_mean, 2)\n",
    "\n",
    "print(f'Medelvärdet är : {wine_2_sample_mean}')\n",
    "print(f'Standardavvikelse är : {wine_2_sample_std}')"
   ]
  },
  {
   "cell_type": "markdown",
   "metadata": {},
   "source": [
    "#### Detta resulterar i följande ekvation:\n",
    "\n",
    "#### $t = \\frac{1.49-1.75}{0.56/\\sqrt{15}}$\n",
    "\n",
    "#### $t = -1.798$ "
   ]
  },
  {
   "cell_type": "code",
   "execution_count": 45,
   "metadata": {},
   "outputs": [
    {
     "name": "stdout",
     "output_type": "stream",
     "text": [
      "t = -1.7988753571133511\n",
      "p_value = 0.09362545860302458\n"
     ]
    }
   ],
   "source": [
    "#one tailed t-test in scipy\n",
    "t_stat, p_value = st.ttest_1samp(a = wine_2_sample['Proanthocyanins'], popmean= 1.75)\n",
    "print(f't = {t_stat}')\n",
    "print(f'p_value = {p_value}')"
   ]
  },
  {
   "cell_type": "markdown",
   "metadata": {},
   "source": [
    "#### Analys av resultatet utfört test med scipy\n",
    "\n",
    "Vi fick här fram ungefär samma t-värde som när jag själv beräknade, detta värde innebär att vi inte förkastar noll hypotesen, då denna är mindre än det kritiska t-värdet på -1.761\n",
    "Då scipy inte presenterar de kritiska t-värdet för oss, kikar man istället på det presenterade p-värdet. Är värdet mindre än vår signifikansnivå (.05) förkastas nollhypotesen. I detta fall fick vi ett p-värde på 0.09 vilket innebär att nollhypotesen inte bör förkastas."
   ]
  },
  {
   "cell_type": "markdown",
   "metadata": {},
   "source": [
    "### 3) Konfidensintervall"
   ]
  },
  {
   "cell_type": "code",
   "execution_count": 47,
   "metadata": {},
   "outputs": [],
   "source": [
    "# Stickprov på 20 värden från druvsort 2 och 3\n",
    "wine_2_sample_twenty = wine_2.sample(n = 20, random_state= random_seed)\n",
    "wine_3_sample_twenty = wine_3.sample(n = 20, random_state= random_seed)"
   ]
  },
  {
   "cell_type": "markdown",
   "metadata": {},
   "source": [
    "Jag ska nu konstruera ett 95% konfidensintervall för skillnaden i fenolhalten mellan druva 2 och 3. Konfidensintervallen kommer beräkna skillnaden i medelvärde mellan de två stickproven och formeln jag använder för detta är:\n",
    "\n",
    "$\\left(\\mathrm{\\overline{x}}_{1}-\\mathrm{\\overline{x}}_{2}^{}\\right)\\pm \\mathrm{t}_{\\sigma/2,}\\text{df}\\sqrt{\\frac{\\left( \\mathrm{n}_{1}-1\\right)\\mathrm{s}_{1}^{2}+\\left( \\mathrm{n}_{2}-1\\right)\\mathrm{s}_{2}^{2}}{\\mathrm{n}_{1}+\\mathrm{n}_{2}-2}}$\n",
    "\n",
    "$\\left(\\mathrm{\\overline{x}}_{1}-\\mathrm{\\overline{x}}_{2}^{}\\right)$ är vardera stickprovs medelvärde\n",
    "\n",
    "$t^{*}$ = kritiskt t-värde och återfinns i denna tabel https://www.sjsu.edu/faculty/gerstman/StatPrimer/t-table.pdf\n",
    "\n",
    "För att få fram vårt kritiska t-värde går vi in i t-tabellen, kikar på vår degree of freedom samt konfidensnivå\n",
    "\n",
    "Degrees of freedom = $\\frac{\\left( \\left( \\mathrm{s}_{1}^{2} \\right) /\\mathrm{n}_{1}+\\left( \\mathrm{s}_{2}^{2} \\right) /\\mathrm{n}_{2}\\right)}{\\left( \\mathrm{s}_{1}^{2} /\\mathrm{n}_{1}\\right)^{2}/\\left( \\mathrm{n}_{1}-1\\right)+\\left( \\mathrm{s}_{2}^{2} /\\mathrm{n}_{2}\\right)^{2}/\\left( \\mathrm{n}_{2}-1 \\right)}$\n",
    "\n",
    "$\\mathrm{n}_{1}$ och $\\mathrm{n}_{2}$ är sample storlekarna\n",
    "\n",
    "$\\mathrm{s}_{1}$ och $\\mathrm{s}_{2}$ är standardavikelsen för vardera sample"
   ]
  },
  {
   "cell_type": "code",
   "execution_count": 62,
   "metadata": {},
   "outputs": [],
   "source": [
    "#Konfidensintervallen med hjälp av Scipy\n",
    "from scipy.stats import ttest_ind\n",
    "\n",
    "#stickprov med fenolhalten\n",
    "phenols_2 = wine_2_sample_twenty['Total_phenols']\n",
    "phenols_3= wine_3_sample_twenty['Total_phenols']"
   ]
  },
  {
   "cell_type": "code",
   "execution_count": 63,
   "metadata": {},
   "outputs": [
    {
     "data": {
      "text/plain": [
       "TtestResult(statistic=3.9314464068463324, pvalue=0.0004334959663182267, df=31.46858302868537)"
      ]
     },
     "execution_count": 63,
     "metadata": {},
     "output_type": "execute_result"
    }
   ],
   "source": [
    "#t-test för differans i medelvärden mellan två stickprov\n",
    "#equal_var = Falsk då jag antagit att populationsstandardavvikelserna är okända och ej antas lika\n",
    "ttest_ind(phenols_2, phenols_3, equal_var= False) "
   ]
  },
  {
   "cell_type": "markdown",
   "metadata": {},
   "source": [
    "Testet ovan sätter nollhypotesen: Det finns ingen skillnad mellan  medelvärdena av våra två samples.\n",
    "Som vi kan se får vi ett väldigt lågt p-värde, lägre än vår signifikansnivå  på 0.05. Vi förkastar därmed nollhypotesen då det verkar finnas signifikant skillnad mellan medelvärdena för vardera stickprov.\n",
    "\n",
    "Förändrar vi stickprovsstorleken kan även formeln vi anväder oss av att bytas från att vi använder oss av t till z. Detta då stickprov med fler samples än 30 inte nyttjar t tabellen.\n",
    "\n",
    "Förändrar vi konfidensgraden så förändras automatiskt också signifikansnivån. Med en högre konfidensgrad sjunker signifikansnivån, vilket innebär att vi är mindre benägna att förkasta nollhypotesen. Sänker vi dock konfidesnivån ökar signifikansnivån. Detta innebär att rikseen för ett typ-1 fel ökar. Typ-1 fel innebär att vi förkastar nollhypotesen trots att den visar sig vara sann."
   ]
  }
 ],
 "metadata": {
  "kernelspec": {
   "display_name": "venv",
   "language": "python",
   "name": "python3"
  },
  "language_info": {
   "codemirror_mode": {
    "name": "ipython",
    "version": 3
   },
   "file_extension": ".py",
   "mimetype": "text/x-python",
   "name": "python",
   "nbconvert_exporter": "python",
   "pygments_lexer": "ipython3",
   "version": "3.10.0"
  },
  "orig_nbformat": 4
 },
 "nbformat": 4,
 "nbformat_minor": 2
}
